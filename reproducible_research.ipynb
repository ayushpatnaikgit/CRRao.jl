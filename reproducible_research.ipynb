{
  "nbformat": 4,
  "nbformat_minor": 0,
  "metadata": {
    "colab": {
      "provenance": [],
      "authorship_tag": "ABX9TyOjCepbovoFXJFHlDEwVJOC",
      "include_colab_link": true
    },
    "kernelspec": {
      "name": "julia",
      "display_name": "Julia"
    },
    "language_info": {
      "name": "julia"
    }
  },
  "cells": [
    {
      "cell_type": "markdown",
      "metadata": {
        "id": "view-in-github",
        "colab_type": "text"
      },
      "source": [
        "<a href=\"https://colab.research.google.com/github/ayushpatnaikgit/CRRao.jl/blob/main/reproducible_research.ipynb\" target=\"_parent\"><img src=\"https://colab.research.google.com/assets/colab-badge.svg\" alt=\"Open In Colab\"/></a>"
      ]
    },
    {
      "cell_type": "markdown",
      "source": [
        "# WORK IN PROGRESS"
      ],
      "metadata": {
        "id": "tZb_-dtt1bgN"
      }
    },
    {
      "cell_type": "code",
      "source": [
        "using Pkg\n",
        "Pkg.add([\"GeoJSON\", \"GeoDataFrames\", \"NighttimeLights\", \"Rasters\", \"CSV\", \"Dates\", \"DataFrames\"])"
      ],
      "metadata": {
        "id": "RKt6qxnCnyrM",
        "outputId": "2fc50d89-6674-4782-aa69-2423ac7aa523",
        "colab": {
          "base_uri": "https://localhost:8080/"
        }
      },
      "execution_count": 2,
      "outputs": [
        {
          "output_type": "stream",
          "name": "stderr",
          "text": [
            "\u001b[32m\u001b[1m   Resolving\u001b[22m\u001b[39m package versions...\n",
            "\u001b[32m\u001b[1m  No Changes\u001b[22m\u001b[39m to `~/.julia/environments/v1.11/Project.toml`\n",
            "\u001b[32m\u001b[1m  No Changes\u001b[22m\u001b[39m to `~/.julia/environments/v1.11/Manifest.toml`\n",
            "\u001b[92m\u001b[1mPrecompiling\u001b[22m\u001b[39m project...\n",
            "  16263.4 ms\u001b[33m  ? \u001b[39mNighttimeLights\n",
            "  17890.7 ms\u001b[33m  ? \u001b[39mRasters → RastersMakieExt\n"
          ]
        }
      ]
    },
    {
      "cell_type": "code",
      "source": [
        ";git clone https://github.com/xKDR/Shedding-light-on-the-Russia-Ukraine-war.git"
      ],
      "metadata": {
        "id": "6YZptoMMoZ4i",
        "outputId": "7970746c-4d34-4024-d6c6-eeca16b64b27",
        "colab": {
          "base_uri": "https://localhost:8080/"
        }
      },
      "execution_count": 3,
      "outputs": [
        {
          "output_type": "stream",
          "name": "stderr",
          "text": [
            "Cloning into 'Shedding-light-on-the-Russia-Ukraine-war'...\n",
            "Updating files: 100% (272/272), done.\n"
          ]
        }
      ]
    },
    {
      "cell_type": "code",
      "source": [
        "using GeoJSON\n",
        "using GeoDataFrames\n",
        "using DataFrames\n",
        "using NighttimeLights\n",
        "using Rasters\n",
        "using CSV\n",
        "using Dates"
      ],
      "metadata": {
        "id": "7xAps6hLTXE4",
        "outputId": "8c37bf51-5996-412a-cf11-50fb6fcedfbb",
        "colab": {
          "base_uri": "https://localhost:8080/"
        }
      },
      "execution_count": 5,
      "outputs": [
        {
          "output_type": "stream",
          "name": "stderr",
          "text": [
            "\u001b[36m\u001b[1m[ \u001b[22m\u001b[39m\u001b[36m\u001b[1mInfo: \u001b[22m\u001b[39mPrecompiling NighttimeLights [4d912a30-7731-4b12-9bf5-9d9a78b4f19a] \n",
            "WARNING: Method definition readnl(Any) in module NighttimeLights at /root/.julia/packages/NighttimeLights/PstBy/src/readnl.jl:84 overwritten at /root/.julia/packages/NighttimeLights/PstBy/src/readnl.jl:127.\n",
            "ERROR: Method overwriting is not permitted during Module precompilation. Use `__precompile__(false)` to opt-out of precompilation.\n",
            "\u001b[36m\u001b[1m┌ \u001b[22m\u001b[39m\u001b[36m\u001b[1mInfo: \u001b[22m\u001b[39mSkipping precompilation due to precompilable error. Importing NighttimeLights [4d912a30-7731-4b12-9bf5-9d9a78b4f19a].\n",
            "\u001b[36m\u001b[1m└ \u001b[22m\u001b[39m  exception = Error when precompiling module, potentially caused by a __precompile__(false) declaration in the module.\n"
          ]
        }
      ]
    },
    {
      "cell_type": "code",
      "execution_count": null,
      "metadata": {
        "id": "Om9EPhk7TF3a"
      },
      "outputs": [],
      "source": [
        "# Define path constants\n",
        "FIGURES_DIRECTORY = \"figures\"\n",
        "TABLES_DIRECTORY = \"tables\"\n",
        "VECTOR_DIRECTORY = \"data/vector\"\n",
        "TABULAR_DIRECTORY = \"data/tabular\"\n",
        "RADIANCE_RASTER_DIRECTORY = \"/content/Shedding-light-on-the-Russia-Ukraine-war/data/raster/cf_cropped\"\n",
        "CFOBS_RASTER_DIRECTORY = \"/content/Shedding-light-on-the-Russia-Ukraine-war/data/raster/rad_cropped\""
      ]
    }
  ]
}